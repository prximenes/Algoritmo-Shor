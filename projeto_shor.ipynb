{
  "nbformat": 4,
  "nbformat_minor": 0,
  "metadata": {
    "colab": {
      "name": "projeto_shor.ipynb",
      "provenance": [],
      "collapsed_sections": [],
      "authorship_tag": "ABX9TyPsbNLqbozkkeawmJ5MxxOR",
      "include_colab_link": true
    },
    "kernelspec": {
      "name": "python3",
      "display_name": "Python 3"
    }
  },
  "cells": [
    {
      "cell_type": "markdown",
      "metadata": {
        "id": "view-in-github",
        "colab_type": "text"
      },
      "source": [
        "<a href=\"https://colab.research.google.com/github/prximenes/Algoritmo-Shor/blob/main/projeto_shor.ipynb\" target=\"_parent\"><img src=\"https://colab.research.google.com/assets/colab-badge.svg\" alt=\"Open In Colab\"/></a>"
      ]
    },
    {
      "cell_type": "markdown",
      "metadata": {
        "id": "QRfg5BGS87t3"
      },
      "source": [
        "                          Centro de Informática - UFPE\n",
        "\n",
        "                  *Projeto de [IF775] TÓPICOS AVANÇADOS EM ALGORITMOS COMPUTAÇÃO QUÂNTICA*\n",
        "\n",
        "Alunos: Belarmino Gorlach Lira, Igor Dias da Silva, Pedro Rafael Ximenes <br>\n",
        "Professor: Adenilton Silva\n",
        "\n",
        "\n",
        "\n",
        "---\n",
        "\n",
        "\n",
        "O Algoritmo de Shor é um algoritmo quântico que realiza fatoração de números inteiros em tempo polinomal. Esse algoritmo é bastante famoso pois, ao considerarmos a computação clássica, o algoritmo mais eficiente conhecido para essa tarefa requer tempo superpolinomial para fatorar o produto entre dois numeros primos.\n",
        "\n",
        "O que o algoritmo de Shor faz, na verdade, é encontrar encontrar períodos em tempo polinomial e como um problema de fatoração pode ser transformado num problema de localização de período, o algoritmo de Shor pode ser utilizado para fatorar inteiros.\n",
        "\n",
        "\n",
        "\n",
        "\n",
        "---\n",
        "\n",
        "O primeiro passao para realizar a fatoração de inteiros utilizando Shor é saber como ele funciona para encontrar períodos. E é por aqui que nós iremos começar."
      ]
    },
    {
      "cell_type": "code",
      "metadata": {
        "id": "fWBWK0hW7fM_"
      },
      "source": [
        "%%capture\n",
        "!pip install qiskit==0.16.1\n",
        "!pip install pylatexenc"
      ],
      "execution_count": null,
      "outputs": []
    },
    {
      "cell_type": "code",
      "metadata": {
        "id": "0Uf1Ux137PZ7"
      },
      "source": [
        "import matplotlib.pyplot as plt\n",
        "import numpy as np\n",
        "from qiskit import QuantumCircuit, QuantumRegister, Aer, execute\n",
        "from qiskit.visualization import plot_histogram\n",
        "from math import gcd\n",
        "from numpy.random import randint\n",
        "import pandas as pd\n",
        "from fractions import Fraction"
      ],
      "execution_count": null,
      "outputs": []
    },
    {
      "cell_type": "markdown",
      "metadata": {
        "id": "ZBnDQMRGyT_l"
      },
      "source": [
        "[Artigo refrencia - pagina 87](https://repositorio.ufsc.br/bitstream/handle/123456789/202489/QSystem_simulador_qu%C3%A2ntico_para_Python.pdf?sequence=1&isAllowed=y)\n",
        "\n",
        "Resumindo: Como dito anteriormente, o algortimo de Shor é usado para fatoração de números inteiros, ou seja, dado um numero inteiro $n$ Shor encontra dois numeros $p$ e $q$, tal que $p$ e $q$ ≠ 1 e $pq = n$.\n",
        "\n",
        "O algoritmo pode ser dividido em alguns passos, são eles:\n",
        "\n",
        "\n",
        "\n",
        "1.   Seja *n* o número que desejamos fatorar, selecione aleatoriamente um número $a$ tal que $a$ e $n$ possuam 1 como maior divisor comum, ou seja, $mdc(a,n) = 1$\n",
        "\n",
        "2.   Encontre o período $r$ da função $f(x) = a^x\\mod n$\n",
        "\n",
        "3.   Volte ao passo 1 se o periodo for ímpar, caso contrário, compute os dois fatores $p$ e $q$ tal que: \n",
        "        $$p = mdc(a^\t\\frac{r}{2} - 1, N)$$</br>\n",
        "        $$q = mdc(a^\t\\frac{r}{2} + 1, N)$$</br>\n",
        "\n",
        "\n",
        "\n",
        "Obs: Apenas o passo 2 necessita de um computador quântico\n",
        "\n",
        "\n",
        "\n",
        "---\n",
        "\n",
        "\n",
        "Como vimos anteriormente, Shor reduz o problema da fatoração para o problema de se achar o período de uma função períodica, isto é, dada uma função periódica $f(x)$, achar o menor número $r$ tal que $f(x)=f(r+x)$.\n",
        "\n",
        "**Para exemplificar, vamos a seguir montar um circuito quântico que resolva tal problema:**\n",
        "\n",
        "Encontre o periodo para $a=7$ e $n=15$\n"
      ]
    },
    {
      "cell_type": "markdown",
      "metadata": {
        "id": "zj1ZdHsPFkTk"
      },
      "source": [
        "Primeiro vamos definir algumas funções que serão usadas:"
      ]
    },
    {
      "cell_type": "code",
      "metadata": {
        "id": "_Yo32NKmFzXN"
      },
      "source": [
        "#c_amod15 e qft_dagger implementadas em: https://qiskit.org/textbook/ch-algorithms/shor.html#3.-Qiskit-Implementation\n",
        "\n",
        "import math\n",
        "\n",
        "#Função que retorna o portão controlado U\n",
        "#U|x⟩ = |a^x mod N⟩\n",
        "def c_amod15(a, power,s):\n",
        "    \"\"\"Controlled multiplication by a mod 15\"\"\"\n",
        "    if a not in [2,7,8,11,13]:\n",
        "        raise ValueError(\"'a' must be 2,7,8,11 or 13\")\n",
        "    U = QuantumCircuit(s)        \n",
        "    for iteration in range(power):\n",
        "        if a in [2,13]:\n",
        "            U.swap(0,1)\n",
        "            U.swap(1,2)\n",
        "            U.swap(2,3)\n",
        "        if a in [7,8]:\n",
        "            U.swap(2,3)\n",
        "            U.swap(1,2)\n",
        "            U.swap(0,1)\n",
        "        if a == 11:\n",
        "            U.swap(1,3)\n",
        "            U.swap(0,2)\n",
        "        if a in [7,11,13]:\n",
        "            for q in range(s):\n",
        "                U.x(q)\n",
        "    U = U.to_gate()\n",
        "    U.name = \"%i^%i mod 15\" % (a, power)\n",
        "    c_U = U.control()\n",
        "    return c_U\n",
        "\n",
        "#Circuito da inversa QFT (quantum Fourier transform)\n",
        "def qft_dagger(n):\n",
        "    \"\"\"n-qubit QFTdagger the first n qubits in circ\"\"\"\n",
        "    qc = QuantumCircuit(n)\n",
        "    # Don't forget the Swaps!\n",
        "    for qubit in range(n//2):\n",
        "        qc.swap(qubit, n-qubit-1)\n",
        "    for j in range(n):\n",
        "        for m in range(j):\n",
        "            qc.cu1(-np.pi/float(2**(j-m)), m, j)\n",
        "        qc.h(j)\n",
        "    qc.name = \"QFT†\"\n",
        "    return qc\n",
        "\n",
        "#Função que retorna que retorna s=⌈log2(n+1)⌉\n",
        "def return_s(n):\n",
        "  return math.ceil(math.log((n+1),2.0))"
      ],
      "execution_count": null,
      "outputs": []
    },
    {
      "cell_type": "markdown",
      "metadata": {
        "id": "y_cd5l4AQVT_"
      },
      "source": [
        "A seguir a criação do circuito"
      ]
    },
    {
      "cell_type": "markdown",
      "metadata": {
        "id": "9sD5qZ0MSCYd"
      },
      "source": [
        "- Primeiro vamos inicializar algumas variáveis e executar o passo 1 descrito acima."
      ]
    },
    {
      "cell_type": "code",
      "metadata": {
        "id": "iHrW2zYDSWQq"
      },
      "source": [
        "import random\n",
        "\n",
        "random.seed(47) #setando a semente aleatória\n",
        "\n",
        "n = 15 #numero a ser fatorado\n",
        "\n",
        "s = return_s(n)\n",
        "n_count = s*2 #número de qubits de contagem\n",
        "\n",
        "#Executando o passo 1 do algoritmo:\n",
        "a = 0 \n",
        "while math.gcd(n,a) != 1 or a ==1:\n",
        "  a = random.randint(2,n)"
      ],
      "execution_count": null,
      "outputs": []
    },
    {
      "cell_type": "markdown",
      "metadata": {
        "id": "jVENkOvxSWvR"
      },
      "source": [
        "- Vamos inicializar 2*s qubits (onde: $s=⌈log_2(n+1)⌉$) de contagem, e mais s qubits para o gate controlado U agir. Todos são inicializados no estado $|0⟩$."
      ]
    },
    {
      "cell_type": "code",
      "metadata": {
        "id": "4kb6CJzYTA1g"
      },
      "source": [
        "# Criando um circuito quantico com n_count (n_count = s*2) qubits de contagem\n",
        "# mais s qubits para o gate contralado U agir\n",
        "qc = QuantumCircuit(n_count + s, n_count)"
      ],
      "execution_count": null,
      "outputs": []
    },
    {
      "cell_type": "markdown",
      "metadata": {
        "id": "KoWi9NytTEAS"
      },
      "source": [
        "- Vamos aplicar a porta Hadamard em todos os 2*s primeiros qubits "
      ]
    },
    {
      "cell_type": "code",
      "metadata": {
        "colab": {
          "base_uri": "https://localhost:8080/"
        },
        "id": "b8ZcHPQWTsqB",
        "outputId": "0f40d150-1326-49f7-c7c0-669e104c0b34"
      },
      "source": [
        "# Aplicando a porta Hadamard em todos os qubits do primeiro \n",
        "# registrador para gerar uma superposição\n",
        "for q in range(n_count):\n",
        "    qc.h(q)\n",
        "\n",
        "# Inicializando o registrador ancilla no estado |1>\n",
        "qc.x(3+n_count)"
      ],
      "execution_count": null,
      "outputs": [
        {
          "output_type": "execute_result",
          "data": {
            "text/plain": [
              "<qiskit.circuit.instructionset.InstructionSet at 0x7f74636fd0b8>"
            ]
          },
          "metadata": {
            "tags": []
          },
          "execution_count": 6
        }
      ]
    },
    {
      "cell_type": "markdown",
      "metadata": {
        "id": "lkaw_bsVT0Lc"
      },
      "source": [
        "- Vamos aplicar o operador $U : |x⟩|0⟩ \\rightarrow |x⟩|a^x \\mod n⟩ $ com o intuito de gerar uma superposição periódica"
      ]
    },
    {
      "cell_type": "code",
      "metadata": {
        "id": "Ip09YQfRUn0K"
      },
      "source": [
        "# Aplicando o operador U\n",
        "for q in range(n_count):\n",
        "    qc.append(c_amod15(a, 2**q, s), \n",
        "             [q] + [i+n_count for i in range(s)])"
      ],
      "execution_count": null,
      "outputs": []
    },
    {
      "cell_type": "markdown",
      "metadata": {
        "id": "chxCINR-Vknz"
      },
      "source": [
        "- Vamos procurar o período presente na superposição, para isso é necessário aplicar uma Transformada de Fourier Quântica (função qft_dagger())."
      ]
    },
    {
      "cell_type": "code",
      "metadata": {
        "colab": {
          "base_uri": "https://localhost:8080/"
        },
        "id": "xHZSrTHWV4aJ",
        "outputId": "29b2d177-9747-4f36-b236-3ffd5df398f1"
      },
      "source": [
        "# Aplicação da transformada de fourier quantica\n",
        "qc.append(qft_dagger(n_count), range(n_count))"
      ],
      "execution_count": null,
      "outputs": [
        {
          "output_type": "execute_result",
          "data": {
            "text/plain": [
              "<qiskit.circuit.instructionset.InstructionSet at 0x7f7463534dd8>"
            ]
          },
          "metadata": {
            "tags": []
          },
          "execution_count": 8
        }
      ]
    },
    {
      "cell_type": "markdown",
      "metadata": {
        "id": "ZxFxHoiDXmsW"
      },
      "source": [
        "- Agora que tudo está pronto nosso circuito vai medir os primeiros $s$ qubits e repetir o processo para encontrar distintos múltiplos de $\\frac{2^s}{r}$ e então encontrar o mdc entre todas as medidas. "
      ]
    },
    {
      "cell_type": "code",
      "metadata": {
        "colab": {
          "base_uri": "https://localhost:8080/",
          "height": 1000
        },
        "id": "Wmb67DNxAxQ2",
        "outputId": "a8392065-476d-4591-a697-5c4b630efb6f"
      },
      "source": [
        "# Measure circuit\n",
        "\n",
        "qc.measure(range(n_count), range(n_count))\n",
        "qc.draw(output=\"mpl\")"
      ],
      "execution_count": null,
      "outputs": [
        {
          "output_type": "execute_result",
          "data": {
            "image/png": "[encoded data removed]",
            "text/plain": [
              "<Figure size 1694.03x1649.48 with 1 Axes>"
            ]
          },
          "metadata": {
            "tags": []
          },
          "execution_count": 9
        }
      ]
    },
    {
      "cell_type": "markdown",
      "metadata": {
        "id": "2-tw_FqKqmKB"
      },
      "source": [
        "Acima podemos ver o circuito"
      ]
    },
    {
      "cell_type": "markdown",
      "metadata": {
        "id": "TJMa5MGHZbeF"
      },
      "source": [
        "- Vamos ver os resultados medidos"
      ]
    },
    {
      "cell_type": "code",
      "metadata": {
        "colab": {
          "base_uri": "https://localhost:8080/",
          "height": 381
        },
        "id": "LTHdG2bzZh4n",
        "outputId": "4d60ef6a-70cd-4ba9-c439-961f44ece32a"
      },
      "source": [
        "backend = Aer.get_backend('qasm_simulator')\n",
        "results = execute(qc, backend, shots=2048).result()\n",
        "counts = results.get_counts()\n",
        "plot_histogram(counts)"
      ],
      "execution_count": null,
      "outputs": [
        {
          "output_type": "execute_result",
          "data": {
            "image/png": "[encoded data removed]",
            "text/plain": [
              "<Figure size 504x360 with 1 Axes>"
            ]
          },
          "metadata": {
            "tags": []
          },
          "execution_count": 10
        }
      ]
    },
    {
      "cell_type": "markdown",
      "metadata": {
        "id": "AjnaHgEkZolR"
      },
      "source": [
        "São 3 qubits, vamos ver quais fases esses resultados correspondem"
      ]
    },
    {
      "cell_type": "code",
      "metadata": {
        "colab": {
          "base_uri": "https://localhost:8080/"
        },
        "id": "uAMeJSCdZoJ8",
        "outputId": "f2a86e88-ed45-4447-ecd0-910a61d4d985"
      },
      "source": [
        "import pandas as pd\n",
        "\n",
        "rows, measured_phases = [], []\n",
        "for output in counts:\n",
        "    decimal = int(output, 2)  # Convert (base 2) string to decimal\n",
        "    phase = decimal/(2**n_count) # Find corresponding eigenvalue\n",
        "    measured_phases.append(phase)\n",
        "    # Add these values to the rows in our table:\n",
        "    rows.append([\"%s(bin) = %i(dec)\" % (output, decimal), \n",
        "                 \"%i/%i = %.2f\" % (decimal, 2**n_count, phase)])\n",
        "# Print the rows in a table\n",
        "headers=[\"Register Output\", \"Phase\"]\n",
        "df = pd.DataFrame(rows, columns=headers)\n",
        "print(df)"
      ],
      "execution_count": null,
      "outputs": [
        {
          "output_type": "stream",
          "text": [
            "            Register Output           Phase\n",
            "0    00000000(bin) = 0(dec)    0/256 = 0.00\n",
            "1   01000000(bin) = 64(dec)   64/256 = 0.25\n",
            "2  10000000(bin) = 128(dec)  128/256 = 0.50\n",
            "3  11000000(bin) = 192(dec)  192/256 = 0.75\n"
          ],
          "name": "stdout"
        }
      ]
    },
    {
      "cell_type": "markdown",
      "metadata": {
        "id": "JMYB3z1EaLMt"
      },
      "source": [
        "Vamos encontrar os valores de $r$"
      ]
    },
    {
      "cell_type": "code",
      "metadata": {
        "colab": {
          "base_uri": "https://localhost:8080/"
        },
        "id": "ebjIRha9aKmP",
        "outputId": "c6bd3c76-0849-4b39-aa6a-3edda23455d5"
      },
      "source": [
        "rows = []\n",
        "for phase in measured_phases:\n",
        "    frac = Fraction(phase).limit_denominator(15)\n",
        "    rows.append([phase, \"%i/%i\" % (2**frac.numerator, frac.denominator), frac.denominator])\n",
        "\n",
        "headers=[\"Phase\", \"Fraction\", \"Guess_for_r\"]\n",
        "df = pd.DataFrame(rows, columns=headers)\n",
        "print(df)"
      ],
      "execution_count": null,
      "outputs": [
        {
          "output_type": "stream",
          "text": [
            "   Phase Fraction  Guess_for_r\n",
            "0   0.00      1/1            1\n",
            "1   0.25      2/4            4\n",
            "2   0.50      2/2            2\n",
            "3   0.75      8/4            4\n"
          ],
          "name": "stdout"
        }
      ]
    },
    {
      "cell_type": "markdown",
      "metadata": {
        "id": "8D35OF2OgOLW"
      },
      "source": [
        "Podemos obervar que nós temos alguns palpites para o valor $r$. Vamos checar qual deles é o valor correto, e, caso nenhuma das soluções seja uma solução boa, devemos repetir o experimento até encontrarmos um resultado bom para $r$"
      ]
    },
    {
      "cell_type": "markdown",
      "metadata": {
        "id": "0zVyhAdfkdgv"
      },
      "source": [
        "- Vamos checar se $r$ é impar, caso seja, vamos retornar ao passo 1. Caso contrário, vamos computar os fatores de $n$, $pq=n$\n",
        "$$p = mdc(a^\t\\frac{r}{2} - 1, N)$$</br>\n",
        "$$q = mdc(a^\t\\frac{r}{2} + 1, N)$$</br>"
      ]
    },
    {
      "cell_type": "code",
      "metadata": {
        "colab": {
          "base_uri": "https://localhost:8080/"
        },
        "id": "5ybP620akEqX",
        "outputId": "493c369d-92b7-426a-ad9c-dc57d0ee42c5"
      },
      "source": [
        "measurements = df['Guess_for_r'].values\n",
        "\n",
        "c = measurements[0]\n",
        "r=0\n",
        "for m in measurements:\n",
        "  print(\"\\nChecando se \" + str(m) + \" é um bom valor para r: \")\n",
        "  c = math.gcd(c,m)\n",
        "  if c == 0:\n",
        "    print(\"r=\"+ str(m) + \": Rejeitado. Repita o algoritmo\")\n",
        "  elif m%2 == 1:\n",
        "    print(\"r=\"+ str(m) + \": Rejeitado, retorne ao passo 1\")\n",
        "  else:\n",
        "      p = math.gcd(int(a**(m/2)+1), n)\n",
        "      q = math.gcd(int(a**(m/2)-1), n)\n",
        "      if (p*q) != n:\n",
        "        print(\"r=\"+ str(m) + \" Rejeitado.\")\n",
        "      else:\n",
        "        r = m\n",
        "        print(\"\\nPossível valor correto p/ r: \", r)\n",
        "        print(p, '*', q, '=', p*q)\n",
        "        break\n",
        "\n",
        "if r == 0:\n",
        "  print(\"Repita o algoritmo\")"
      ],
      "execution_count": null,
      "outputs": [
        {
          "output_type": "stream",
          "text": [
            "\n",
            "Checando se 1 é um bom valor para r: \n",
            "r=1: Rejeitado, retorne ao passo 1\n",
            "\n",
            "Checando se 4 é um bom valor para r: \n",
            "\n",
            "Possível valor correto p/ r:  4\n",
            "5 * 3 = 15\n"
          ],
          "name": "stdout"
        }
      ]
    },
    {
      "cell_type": "markdown",
      "metadata": {
        "id": "nNn-CPk9g1fH"
      },
      "source": [
        "O valor $r=4$ escolhido é um resultado correto, assim não precisamos repetir o experimento.\n",
        "\n",
        "$$p = mdc(a^\\frac{4}{2} - 1, N) = 5$$\n",
        "$$q = mdc(a^\\frac{4}{2} + 1, N) = 3$$\n",
        "$$ 5 * 3 = 15$$"
      ]
    },
    {
      "cell_type": "markdown",
      "metadata": {
        "id": "6RRnel4b4P2B"
      },
      "source": [
        "# Referências\n",
        "\n",
        "*   *SHOR, P. W*. **Polynomial-time algorithms for prime factorization and discrete logarithms on a quantum computer.**\n",
        "\n",
        "* Qiskit: An Open-source Framework for Quantum Computing. Shor's Algorithm.2019. Disponível em: <https://qiskit.org/textbook/ch-algorithms/shor.html/>\n",
        "\n",
        "* *Evandro Chagas Ribeiro da Rosa*. **QQSystem: simulador quântico para Python** "
      ]
    }
  ]
}